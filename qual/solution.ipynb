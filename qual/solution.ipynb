{
 "cells": [
  {
   "cell_type": "code",
   "execution_count": 1,
   "metadata": {},
   "outputs": [],
   "source": [
    "import numpy as np\n",
    "import pandas as pd"
   ]
  },
  {
   "cell_type": "markdown",
   "metadata": {},
   "source": [
    "Load dataframe and set up column lists"
   ]
  },
  {
   "cell_type": "code",
   "execution_count": 2,
   "metadata": {},
   "outputs": [],
   "source": [
    "train_df = pd.read_csv(\"./train_kor.csv\", encoding=\"euc-kr\")\n",
    "test_df = pd.read_csv(\"./test_kor.csv\", encoding=\"euc-kr\")"
   ]
  },
  {
   "cell_type": "code",
   "execution_count": 3,
   "metadata": {},
   "outputs": [],
   "source": [
    "train_df = train_df.sample(frac=1)"
   ]
  },
  {
   "cell_type": "code",
   "execution_count": 4,
   "metadata": {},
   "outputs": [],
   "source": [
    "cols = np.array([\"주야\", \"요일\", \"사망자수\", \"사상자수\", \"중상자수\", \"경상자수\", \"부상신고자수\", \"발생지시도\", \"발생지시군구\", \"사고유형_대분류\", \"사고유형_중분류\", \"법규위반\",\"도로형태_대분류\", \"도로형태\",\"당사자종별_1당_대분류\", \"당사자종별_2당_대분류\"])\n",
    "numeric_cols = np.array(['사망자수', '사상자수', '중상자수', '경상자수', '부상신고자수'])\n",
    "categoric_cols = np.array([\"주야\", \"요일\", \"발생지시도\", \"발생지시군구\", \"사고유형_대분류\", \"사고유형_중분류\", \"법규위반\",\"도로형태_대분류\", \"도로형태\",\"당사자종별_1당_대분류\", \"당사자종별_2당_대분류\"])"
   ]
  },
  {
   "cell_type": "code",
   "execution_count": 5,
   "metadata": {},
   "outputs": [],
   "source": [
    "train_df = train_df[cols]"
   ]
  },
  {
   "cell_type": "markdown",
   "metadata": {},
   "source": [
    "Fit a LabelEncoder for categoric input"
   ]
  },
  {
   "cell_type": "code",
   "execution_count": 6,
   "metadata": {},
   "outputs": [],
   "source": [
    "from sklearn.preprocessing import LabelEncoder"
   ]
  },
  {
   "cell_type": "code",
   "execution_count": 7,
   "metadata": {},
   "outputs": [],
   "source": [
    "category_le = LabelEncoder()"
   ]
  },
  {
   "cell_type": "code",
   "execution_count": 8,
   "metadata": {},
   "outputs": [],
   "source": [
    "train_df_values = np.ndarray.flatten(train_df[categoric_cols].values)\n",
    "test_df_values = np.ndarray.flatten(test_df[categoric_cols].values)\n",
    "all_values = np.concatenate((train_df_values, test_df_values))"
   ]
  },
  {
   "cell_type": "code",
   "execution_count": 9,
   "metadata": {},
   "outputs": [],
   "source": [
    "def isnan(v):\n",
    "    return isinstance(v, float) and np.isnan(v)"
   ]
  },
  {
   "cell_type": "code",
   "execution_count": 10,
   "metadata": {},
   "outputs": [],
   "source": [
    "not_nan_flag = np.array(list(map(lambda x: not isnan(x), all_values)))"
   ]
  },
  {
   "cell_type": "code",
   "execution_count": 11,
   "metadata": {},
   "outputs": [],
   "source": [
    "all_values = np.extract(not_nan_flag, all_values)"
   ]
  },
  {
   "cell_type": "code",
   "execution_count": 12,
   "metadata": {},
   "outputs": [
    {
     "data": {
      "text/plain": [
       "LabelEncoder()"
      ]
     },
     "execution_count": 12,
     "metadata": {},
     "output_type": "execute_result"
    }
   ],
   "source": [
    "category_le.fit(all_values)"
   ]
  },
  {
   "cell_type": "markdown",
   "metadata": {},
   "source": [
    "Parse the test"
   ]
  },
  {
   "cell_type": "code",
   "execution_count": 13,
   "metadata": {},
   "outputs": [],
   "source": [
    "def bool_arr_to_int(arr):\n",
    "    return np.sum([(2 ** i if b else 0) for i, b in enumerate(arr)])"
   ]
  },
  {
   "cell_type": "code",
   "execution_count": 14,
   "metadata": {},
   "outputs": [],
   "source": [
    "def in_out_cols(bit):\n",
    "    in_cols, out_cols = [], []\n",
    "    for i in range(len(cols)):\n",
    "        if (bit & (2 ** i)) > 0:\n",
    "            out_cols.append(cols[i])\n",
    "        else:\n",
    "            in_cols.append(cols[i])\n",
    "    return in_cols, out_cols"
   ]
  },
  {
   "cell_type": "code",
   "execution_count": 15,
   "metadata": {},
   "outputs": [],
   "source": [
    "test_df['Problem Type'] = test_df.apply(lambda x: bool_arr_to_int(map(isnan, x)), axis=1)"
   ]
  },
  {
   "cell_type": "code",
   "execution_count": 16,
   "metadata": {},
   "outputs": [],
   "source": [
    "def prob(bit, cur_test_df):\n",
    "    in_cols, out_cols = in_out_cols(bit)\n",
    "    num_df = cur_test_df[np.intersect1d(in_cols, numeric_cols)]\n",
    "    cat_df = cur_test_df[np.intersect1d(in_cols, categoric_cols)]\n",
    "    return (num_df, cat_df, out_cols)"
   ]
  },
  {
   "cell_type": "code",
   "execution_count": 17,
   "metadata": {},
   "outputs": [],
   "source": [
    "problems = [prob(bit, cur_test_df)\n",
    "    for bit, cur_test_df in list(test_df.groupby('Problem Type'))]"
   ]
  },
  {
   "cell_type": "code",
   "execution_count": 18,
   "metadata": {
    "scrolled": true
   },
   "outputs": [
    {
     "name": "stderr",
     "output_type": "stream",
     "text": [
      "Using TensorFlow backend.\n"
     ]
    }
   ],
   "source": [
    "from keras.models import Sequential\n",
    "from keras.layers import Dense, Dropout\n",
    "from keras.wrappers.scikit_learn import KerasClassifier\n",
    "from keras.utils import np_utils"
   ]
  },
  {
   "cell_type": "code",
   "execution_count": 19,
   "metadata": {},
   "outputs": [],
   "source": [
    "from sklearn.preprocessing import LabelBinarizer, OneHotEncoder"
   ]
  },
  {
   "cell_type": "code",
   "execution_count": 20,
   "metadata": {},
   "outputs": [],
   "source": [
    "# Returns the Sequence of prediction \n",
    "def predict(num_df, cat_df, predict_col):\n",
    "    print(list(num_df.index))\n",
    "    print(predict_col)\n",
    "    \n",
    "    cat_cols = cat_df.columns.values\n",
    "    num_cols = num_df.columns.values\n",
    "    train_cat_mat = train_df[cat_cols].values\n",
    "    train_cat_mat = category_le.transform(train_cat_mat.ravel()).reshape(train_cat_mat.shape)\n",
    "    cat_mat = cat_df.values\n",
    "    cat_mat = category_le.transform(cat_mat.ravel()).reshape(cat_mat.shape)\n",
    "    train_num_mat = train_df[num_cols].values\n",
    "    num_mat = num_df.values\n",
    "    \n",
    "    cat_ohe = OneHotEncoder()\n",
    "    cat_ohe.fit(np.concatenate((train_cat_mat, cat_mat), axis=0))\n",
    "    train_cat_mat = cat_ohe.transform(train_cat_mat)\n",
    "    cat_mat = cat_ohe.transform(cat_mat)\n",
    "    \n",
    "    trainX = np.concatenate((train_cat_mat.toarray(), train_num_mat), axis=1)\n",
    "    testX = np.concatenate((cat_mat.toarray(), num_mat), axis=1)\n",
    "    trainY = train_df[predict_col]\n",
    "    \n",
    "    if predict_col in numeric_cols:\n",
    "        model = Sequential()\n",
    "        model.add(Dense(500, input_shape=(trainX.shape[1],), init=\"normal\", activation=\"relu\"))\n",
    "        model.add(Dense(500, init=\"normal\", activation=\"relu\"))\n",
    "        model.add(Dense(500, init=\"normal\", activation=\"relu\"))\n",
    "        model.add(Dense(1, init=\"normal\", activation=\"relu\"))\n",
    "\n",
    "        model.compile(loss=\"mean_squared_error\", optimizer=\"adam\", metrics=[\"accuracy\"])\n",
    "\n",
    "        model.fit(trainX[:], trainY[:], epochs=3, batch_size=20, verbose=0)\n",
    "        \n",
    "        prediction = model.predict(testX)\n",
    "        for i, idx in enumerate(cat_df.index):\n",
    "            # Set the predicted value to test data frame\n",
    "            test_df.set_value(idx, predict_col, np.round(prediction[i, 0]))\n",
    "    else:\n",
    "        trainY = category_le.transform(trainY)\n",
    "        lb = LabelBinarizer()\n",
    "        trainY = lb.fit_transform(trainY)\n",
    "        \n",
    "        model = Sequential()\n",
    "        model.add(Dense(500, input_shape=(trainX.shape[1],), init=\"normal\", activation=\"relu\"))\n",
    "        model.add(Dense(500, init=\"normal\", activation=\"relu\"))\n",
    "        model.add(Dense(500, init=\"normal\", activation=\"relu\"))\n",
    "        model.add(Dense(trainY.shape[1], init=\"normal\", activation=\"softmax\"))\n",
    "\n",
    "        if (trainY.shape[1] == 1):\n",
    "            model.compile(loss=\"binary_crossentropy\", optimizer=\"adam\", metrics=[\"accuracy\"])            \n",
    "        else:\n",
    "            model.compile(loss=\"categorical_crossentropy\", optimizer=\"adam\", metrics=[\"accuracy\"])\n",
    "        \n",
    "        model.fit(trainX[:], trainY[:], epochs=3, batch_size=20, verbose=0)\n",
    "        \n",
    "        prediction = model.predict(testX)\n",
    "        prediction = category_le.inverse_transform(lb.inverse_transform(prediction))\n",
    "        for i, idx in enumerate(cat_df.index):\n",
    "            # Set the predicted value to test data frame\n",
    "            test_df.set_value(idx, predict_col, prediction[i])"
   ]
  },
  {
   "cell_type": "code",
   "execution_count": 21,
   "metadata": {},
   "outputs": [],
   "source": [
    "total_probs = 0\n",
    "for num_df, cat_df, out_cols in problems:\n",
    "    total_probs += len(num_df.index) * len(out_cols)"
   ]
  },
  {
   "cell_type": "code",
   "execution_count": 22,
   "metadata": {
    "scrolled": false
   },
   "outputs": [
    {
     "name": "stdout",
     "output_type": "stream",
     "text": [
      "3/157\n",
      "[7, 8, 9]\n",
      "사망자수\n"
     ]
    },
    {
     "name": "stderr",
     "output_type": "stream",
     "text": [
      "/opt/conda/lib/python3.6/site-packages/ipykernel_launcher.py:26: UserWarning: Update your `Dense` call to the Keras 2 API: `Dense(500, input_shape=(330,), activation=\"relu\", kernel_initializer=\"normal\")`\n",
      "/opt/conda/lib/python3.6/site-packages/ipykernel_launcher.py:27: UserWarning: Update your `Dense` call to the Keras 2 API: `Dense(500, activation=\"relu\", kernel_initializer=\"normal\")`\n",
      "/opt/conda/lib/python3.6/site-packages/ipykernel_launcher.py:28: UserWarning: Update your `Dense` call to the Keras 2 API: `Dense(500, activation=\"relu\", kernel_initializer=\"normal\")`\n",
      "/opt/conda/lib/python3.6/site-packages/ipykernel_launcher.py:29: UserWarning: Update your `Dense` call to the Keras 2 API: `Dense(1, activation=\"relu\", kernel_initializer=\"normal\")`\n"
     ]
    },
    {
     "name": "stdout",
     "output_type": "stream",
     "text": [
      "6/157\n",
      "[7, 8, 9]\n",
      "사상자수\n",
      "9/157\n",
      "[7, 8, 9]\n",
      "중상자수\n",
      "12/157\n",
      "[0, 1]\n",
      "사망자수\n",
      "15/157\n",
      "[0, 1]\n",
      "사상자수\n",
      "18/157\n",
      "[0, 1]\n",
      "경상자수\n",
      "21/157\n",
      "[4, 5, 6]\n",
      "사상자수\n",
      "24/157\n",
      "[4, 5, 6]\n",
      "중상자수\n",
      "27/157\n",
      "[4, 5, 6]\n",
      "경상자수\n",
      "30/157\n",
      "[2, 3]\n",
      "사상자수\n",
      "33/157\n",
      "[2, 3]\n",
      "중상자수\n",
      "36/157\n",
      "[2, 3]\n",
      "부상신고자수\n",
      "39/157\n",
      "[30, 31]\n",
      "사망자수\n"
     ]
    },
    {
     "name": "stderr",
     "output_type": "stream",
     "text": [
      "/opt/conda/lib/python3.6/site-packages/ipykernel_launcher.py:26: UserWarning: Update your `Dense` call to the Keras 2 API: `Dense(500, input_shape=(123,), activation=\"relu\", kernel_initializer=\"normal\")`\n"
     ]
    },
    {
     "name": "stdout",
     "output_type": "stream",
     "text": [
      "42/157\n",
      "[30, 31]\n",
      "사상자수\n",
      "45/157\n",
      "[30, 31]\n",
      "발생지시군구\n"
     ]
    },
    {
     "name": "stderr",
     "output_type": "stream",
     "text": [
      "/opt/conda/lib/python3.6/site-packages/ipykernel_launcher.py:45: UserWarning: Update your `Dense` call to the Keras 2 API: `Dense(500, input_shape=(123,), activation=\"relu\", kernel_initializer=\"normal\")`\n",
      "/opt/conda/lib/python3.6/site-packages/ipykernel_launcher.py:46: UserWarning: Update your `Dense` call to the Keras 2 API: `Dense(500, activation=\"relu\", kernel_initializer=\"normal\")`\n",
      "/opt/conda/lib/python3.6/site-packages/ipykernel_launcher.py:47: UserWarning: Update your `Dense` call to the Keras 2 API: `Dense(500, activation=\"relu\", kernel_initializer=\"normal\")`\n",
      "/opt/conda/lib/python3.6/site-packages/ipykernel_launcher.py:48: UserWarning: Update your `Dense` call to the Keras 2 API: `Dense(208, activation=\"softmax\", kernel_initializer=\"normal\")`\n"
     ]
    },
    {
     "name": "stdout",
     "output_type": "stream",
     "text": [
      "48/157\n",
      "[32, 33, 34]\n",
      "중상자수\n",
      "51/157\n",
      "[32, 33, 34]\n",
      "경상자수\n",
      "54/157\n",
      "[32, 33, 34]\n",
      "발생지시군구\n",
      "56/157\n",
      "[35, 36, 37, 38, 39]\n",
      "발생지시도\n"
     ]
    },
    {
     "name": "stderr",
     "output_type": "stream",
     "text": [
      "/opt/conda/lib/python3.6/site-packages/ipykernel_launcher.py:45: UserWarning: Update your `Dense` call to the Keras 2 API: `Dense(500, input_shape=(108,), activation=\"relu\", kernel_initializer=\"normal\")`\n",
      "/opt/conda/lib/python3.6/site-packages/ipykernel_launcher.py:48: UserWarning: Update your `Dense` call to the Keras 2 API: `Dense(17, activation=\"softmax\", kernel_initializer=\"normal\")`\n"
     ]
    },
    {
     "name": "stdout",
     "output_type": "stream",
     "text": [
      "58/157\n",
      "[35, 36, 37, 38, 39]\n",
      "발생지시군구\n",
      "61/157\n",
      "[40, 41]\n",
      "요일\n"
     ]
    },
    {
     "name": "stderr",
     "output_type": "stream",
     "text": [
      "/opt/conda/lib/python3.6/site-packages/ipykernel_launcher.py:45: UserWarning: Update your `Dense` call to the Keras 2 API: `Dense(500, input_shape=(303,), activation=\"relu\", kernel_initializer=\"normal\")`\n",
      "/opt/conda/lib/python3.6/site-packages/ipykernel_launcher.py:48: UserWarning: Update your `Dense` call to the Keras 2 API: `Dense(7, activation=\"softmax\", kernel_initializer=\"normal\")`\n"
     ]
    },
    {
     "name": "stdout",
     "output_type": "stream",
     "text": [
      "64/157\n",
      "[40, 41]\n",
      "사고유형_대분류\n"
     ]
    },
    {
     "name": "stderr",
     "output_type": "stream",
     "text": [
      "/opt/conda/lib/python3.6/site-packages/ipykernel_launcher.py:48: UserWarning: Update your `Dense` call to the Keras 2 API: `Dense(4, activation=\"softmax\", kernel_initializer=\"normal\")`\n"
     ]
    },
    {
     "name": "stdout",
     "output_type": "stream",
     "text": [
      "67/157\n",
      "[40, 41]\n",
      "사고유형_중분류\n"
     ]
    },
    {
     "name": "stderr",
     "output_type": "stream",
     "text": [
      "/opt/conda/lib/python3.6/site-packages/ipykernel_launcher.py:48: UserWarning: Update your `Dense` call to the Keras 2 API: `Dense(19, activation=\"softmax\", kernel_initializer=\"normal\")`\n"
     ]
    },
    {
     "name": "stdout",
     "output_type": "stream",
     "text": [
      "70/157\n",
      "[10, 11, 12, 13, 14, 15, 16, 17, 18, 19]\n",
      "사고유형_대분류\n"
     ]
    },
    {
     "name": "stderr",
     "output_type": "stream",
     "text": [
      "/opt/conda/lib/python3.6/site-packages/ipykernel_launcher.py:45: UserWarning: Update your `Dense` call to the Keras 2 API: `Dense(500, input_shape=(290,), activation=\"relu\", kernel_initializer=\"normal\")`\n"
     ]
    },
    {
     "name": "stdout",
     "output_type": "stream",
     "text": [
      "73/157\n",
      "[10, 11, 12, 13, 14, 15, 16, 17, 18, 19]\n",
      "사고유형_중분류\n",
      "76/157\n",
      "[10, 11, 12, 13, 14, 15, 16, 17, 18, 19]\n",
      "법규위반\n"
     ]
    },
    {
     "name": "stderr",
     "output_type": "stream",
     "text": [
      "/opt/conda/lib/python3.6/site-packages/ipykernel_launcher.py:48: UserWarning: Update your `Dense` call to the Keras 2 API: `Dense(20, activation=\"softmax\", kernel_initializer=\"normal\")`\n"
     ]
    },
    {
     "name": "stdout",
     "output_type": "stream",
     "text": [
      "80/157\n",
      "[42, 43, 44]\n",
      "요일\n"
     ]
    },
    {
     "name": "stderr",
     "output_type": "stream",
     "text": [
      "/opt/conda/lib/python3.6/site-packages/ipykernel_launcher.py:45: UserWarning: Update your `Dense` call to the Keras 2 API: `Dense(500, input_shape=(278,), activation=\"relu\", kernel_initializer=\"normal\")`\n"
     ]
    },
    {
     "name": "stdout",
     "output_type": "stream",
     "text": [
      "84/157\n",
      "[42, 43, 44]\n",
      "사고유형_중분류\n",
      "88/157\n",
      "[42, 43, 44]\n",
      "법규위반\n",
      "92/157\n",
      "[42, 43, 44]\n",
      "도로형태_대분류\n"
     ]
    },
    {
     "name": "stderr",
     "output_type": "stream",
     "text": [
      "/opt/conda/lib/python3.6/site-packages/ipykernel_launcher.py:48: UserWarning: Update your `Dense` call to the Keras 2 API: `Dense(9, activation=\"softmax\", kernel_initializer=\"normal\")`\n"
     ]
    },
    {
     "name": "stdout",
     "output_type": "stream",
     "text": [
      "96/157\n",
      "[47, 48, 49]\n",
      "주야\n"
     ]
    },
    {
     "name": "stderr",
     "output_type": "stream",
     "text": [
      "/opt/conda/lib/python3.6/site-packages/ipykernel_launcher.py:45: UserWarning: Update your `Dense` call to the Keras 2 API: `Dense(500, input_shape=(313,), activation=\"relu\", kernel_initializer=\"normal\")`\n",
      "/opt/conda/lib/python3.6/site-packages/ipykernel_launcher.py:48: UserWarning: Update your `Dense` call to the Keras 2 API: `Dense(1, activation=\"softmax\", kernel_initializer=\"normal\")`\n"
     ]
    },
    {
     "name": "stdout",
     "output_type": "stream",
     "text": [
      "100/157\n",
      "[47, 48, 49]\n",
      "사상자수\n"
     ]
    },
    {
     "name": "stderr",
     "output_type": "stream",
     "text": [
      "/opt/conda/lib/python3.6/site-packages/ipykernel_launcher.py:26: UserWarning: Update your `Dense` call to the Keras 2 API: `Dense(500, input_shape=(313,), activation=\"relu\", kernel_initializer=\"normal\")`\n"
     ]
    },
    {
     "name": "stdout",
     "output_type": "stream",
     "text": [
      "104/157\n",
      "[47, 48, 49]\n",
      "중상자수\n",
      "108/157\n",
      "[47, 48, 49]\n",
      "도로형태\n"
     ]
    },
    {
     "name": "stderr",
     "output_type": "stream",
     "text": [
      "/opt/conda/lib/python3.6/site-packages/ipykernel_launcher.py:48: UserWarning: Update your `Dense` call to the Keras 2 API: `Dense(16, activation=\"softmax\", kernel_initializer=\"normal\")`\n"
     ]
    },
    {
     "name": "stdout",
     "output_type": "stream",
     "text": [
      "112/157\n",
      "[45, 46]\n",
      "주야\n"
     ]
    },
    {
     "name": "stderr",
     "output_type": "stream",
     "text": [
      "/opt/conda/lib/python3.6/site-packages/ipykernel_launcher.py:45: UserWarning: Update your `Dense` call to the Keras 2 API: `Dense(500, input_shape=(317,), activation=\"relu\", kernel_initializer=\"normal\")`\n"
     ]
    },
    {
     "name": "stdout",
     "output_type": "stream",
     "text": [
      "116/157\n",
      "[45, 46]\n",
      "사망자수\n"
     ]
    },
    {
     "name": "stderr",
     "output_type": "stream",
     "text": [
      "/opt/conda/lib/python3.6/site-packages/ipykernel_launcher.py:26: UserWarning: Update your `Dense` call to the Keras 2 API: `Dense(500, input_shape=(317,), activation=\"relu\", kernel_initializer=\"normal\")`\n"
     ]
    },
    {
     "name": "stdout",
     "output_type": "stream",
     "text": [
      "120/157\n",
      "[45, 46]\n",
      "사상자수\n",
      "124/157\n",
      "[45, 46]\n",
      "당사자종별_1당_대분류\n"
     ]
    },
    {
     "name": "stderr",
     "output_type": "stream",
     "text": [
      "/opt/conda/lib/python3.6/site-packages/ipykernel_launcher.py:48: UserWarning: Update your `Dense` call to the Keras 2 API: `Dense(12, activation=\"softmax\", kernel_initializer=\"normal\")`\n"
     ]
    },
    {
     "name": "stdout",
     "output_type": "stream",
     "text": [
      "127/157\n",
      "[20, 21, 22]\n",
      "도로형태_대분류\n"
     ]
    },
    {
     "name": "stderr",
     "output_type": "stream",
     "text": [
      "/opt/conda/lib/python3.6/site-packages/ipykernel_launcher.py:45: UserWarning: Update your `Dense` call to the Keras 2 API: `Dense(500, input_shape=(296,), activation=\"relu\", kernel_initializer=\"normal\")`\n"
     ]
    },
    {
     "name": "stdout",
     "output_type": "stream",
     "text": [
      "130/157\n",
      "[20, 21, 22]\n",
      "도로형태\n",
      "133/157\n",
      "[20, 21, 22]\n",
      "당사자종별_1당_대분류\n",
      "136/157\n",
      "[23, 24, 25]\n",
      "도로형태_대분류\n"
     ]
    },
    {
     "name": "stderr",
     "output_type": "stream",
     "text": [
      "/opt/conda/lib/python3.6/site-packages/ipykernel_launcher.py:45: UserWarning: Update your `Dense` call to the Keras 2 API: `Dense(500, input_shape=(294,), activation=\"relu\", kernel_initializer=\"normal\")`\n"
     ]
    },
    {
     "name": "stdout",
     "output_type": "stream",
     "text": [
      "139/157\n",
      "[23, 24, 25]\n",
      "도로형태\n",
      "142/157\n",
      "[23, 24, 25]\n",
      "당사자종별_2당_대분류\n"
     ]
    },
    {
     "name": "stderr",
     "output_type": "stream",
     "text": [
      "/opt/conda/lib/python3.6/site-packages/ipykernel_launcher.py:48: UserWarning: Update your `Dense` call to the Keras 2 API: `Dense(14, activation=\"softmax\", kernel_initializer=\"normal\")`\n"
     ]
    },
    {
     "name": "stdout",
     "output_type": "stream",
     "text": [
      "146/157\n",
      "[26, 27, 28, 29]\n",
      "도로형태_대분류\n"
     ]
    },
    {
     "name": "stderr",
     "output_type": "stream",
     "text": [
      "/opt/conda/lib/python3.6/site-packages/ipykernel_launcher.py:45: UserWarning: Update your `Dense` call to the Keras 2 API: `Dense(500, input_shape=(282,), activation=\"relu\", kernel_initializer=\"normal\")`\n"
     ]
    },
    {
     "name": "stdout",
     "output_type": "stream",
     "text": [
      "150/157\n",
      "[26, 27, 28, 29]\n",
      "도로형태\n",
      "154/157\n",
      "[26, 27, 28, 29]\n",
      "당사자종별_1당_대분류\n",
      "158/157\n",
      "[26, 27, 28, 29]\n",
      "당사자종별_2당_대분류\n"
     ]
    }
   ],
   "source": [
    "cnt = 0\n",
    "for num_df, cat_df, out_cols in problems:\n",
    "    for out_col in out_cols:\n",
    "        cnt += len(out_cols)\n",
    "        print(str(cnt) + \"/\" + str(total_probs))\n",
    "        predict(num_df, cat_df, out_col)"
   ]
  },
  {
   "cell_type": "markdown",
   "metadata": {},
   "source": [
    "Parse the result"
   ]
  },
  {
   "cell_type": "code",
   "execution_count": 39,
   "metadata": {},
   "outputs": [],
   "source": [
    "result_df = pd.read_csv(\"./result_kor.csv\", encoding=\"euc-kr\")"
   ]
  },
  {
   "cell_type": "code",
   "execution_count": 40,
   "metadata": {},
   "outputs": [],
   "source": [
    "def ans(row, col):\n",
    "    return test_df.at[row - 2, cols[ord(col) - ord('A')]]"
   ]
  },
  {
   "cell_type": "code",
   "execution_count": 41,
   "metadata": {
    "scrolled": true
   },
   "outputs": [],
   "source": [
    "ans_list = np.array(list(map(lambda a: ans(a[0], a[1]), result_df.values)))"
   ]
  },
  {
   "cell_type": "code",
   "execution_count": 42,
   "metadata": {},
   "outputs": [],
   "source": [
    "result_df['값'] = ans_list"
   ]
  },
  {
   "cell_type": "code",
   "execution_count": 43,
   "metadata": {},
   "outputs": [],
   "source": [
    "result_df.to_csv('./result_kor.csv', encoding=\"euc-kr\", index=False)"
   ]
  },
  {
   "cell_type": "code",
   "execution_count": 44,
   "metadata": {},
   "outputs": [],
   "source": [
    "result_df = pd.read_csv(\"./result_kor.csv\", encoding=\"euc-kr\")"
   ]
  },
  {
   "cell_type": "code",
   "execution_count": 45,
   "metadata": {
    "scrolled": true
   },
   "outputs": [
    {
     "data": {
      "text/html": [
       "<div>\n",
       "<table border=\"1\" class=\"dataframe\">\n",
       "  <thead>\n",
       "    <tr style=\"text-align: right;\">\n",
       "      <th></th>\n",
       "      <th>행</th>\n",
       "      <th>열</th>\n",
       "      <th>값</th>\n",
       "    </tr>\n",
       "  </thead>\n",
       "  <tbody>\n",
       "    <tr>\n",
       "      <th>0</th>\n",
       "      <td>2</td>\n",
       "      <td>C</td>\n",
       "      <td>1.0</td>\n",
       "    </tr>\n",
       "    <tr>\n",
       "      <th>1</th>\n",
       "      <td>2</td>\n",
       "      <td>D</td>\n",
       "      <td>2.0</td>\n",
       "    </tr>\n",
       "    <tr>\n",
       "      <th>2</th>\n",
       "      <td>2</td>\n",
       "      <td>F</td>\n",
       "      <td>0.0</td>\n",
       "    </tr>\n",
       "    <tr>\n",
       "      <th>3</th>\n",
       "      <td>3</td>\n",
       "      <td>C</td>\n",
       "      <td>1.0</td>\n",
       "    </tr>\n",
       "    <tr>\n",
       "      <th>4</th>\n",
       "      <td>3</td>\n",
       "      <td>D</td>\n",
       "      <td>1.0</td>\n",
       "    </tr>\n",
       "    <tr>\n",
       "      <th>5</th>\n",
       "      <td>3</td>\n",
       "      <td>F</td>\n",
       "      <td>0.0</td>\n",
       "    </tr>\n",
       "    <tr>\n",
       "      <th>6</th>\n",
       "      <td>4</td>\n",
       "      <td>D</td>\n",
       "      <td>1.0</td>\n",
       "    </tr>\n",
       "    <tr>\n",
       "      <th>7</th>\n",
       "      <td>4</td>\n",
       "      <td>E</td>\n",
       "      <td>0.0</td>\n",
       "    </tr>\n",
       "    <tr>\n",
       "      <th>8</th>\n",
       "      <td>4</td>\n",
       "      <td>G</td>\n",
       "      <td>0.0</td>\n",
       "    </tr>\n",
       "    <tr>\n",
       "      <th>9</th>\n",
       "      <td>5</td>\n",
       "      <td>D</td>\n",
       "      <td>4.0</td>\n",
       "    </tr>\n",
       "    <tr>\n",
       "      <th>10</th>\n",
       "      <td>5</td>\n",
       "      <td>E</td>\n",
       "      <td>0.0</td>\n",
       "    </tr>\n",
       "    <tr>\n",
       "      <th>11</th>\n",
       "      <td>5</td>\n",
       "      <td>G</td>\n",
       "      <td>0.0</td>\n",
       "    </tr>\n",
       "    <tr>\n",
       "      <th>12</th>\n",
       "      <td>6</td>\n",
       "      <td>D</td>\n",
       "      <td>2.0</td>\n",
       "    </tr>\n",
       "    <tr>\n",
       "      <th>13</th>\n",
       "      <td>6</td>\n",
       "      <td>E</td>\n",
       "      <td>0.0</td>\n",
       "    </tr>\n",
       "    <tr>\n",
       "      <th>14</th>\n",
       "      <td>6</td>\n",
       "      <td>F</td>\n",
       "      <td>0.0</td>\n",
       "    </tr>\n",
       "    <tr>\n",
       "      <th>15</th>\n",
       "      <td>7</td>\n",
       "      <td>D</td>\n",
       "      <td>3.0</td>\n",
       "    </tr>\n",
       "    <tr>\n",
       "      <th>16</th>\n",
       "      <td>7</td>\n",
       "      <td>E</td>\n",
       "      <td>0.0</td>\n",
       "    </tr>\n",
       "    <tr>\n",
       "      <th>17</th>\n",
       "      <td>7</td>\n",
       "      <td>F</td>\n",
       "      <td>0.0</td>\n",
       "    </tr>\n",
       "    <tr>\n",
       "      <th>18</th>\n",
       "      <td>8</td>\n",
       "      <td>D</td>\n",
       "      <td>2.0</td>\n",
       "    </tr>\n",
       "    <tr>\n",
       "      <th>19</th>\n",
       "      <td>8</td>\n",
       "      <td>E</td>\n",
       "      <td>0.0</td>\n",
       "    </tr>\n",
       "    <tr>\n",
       "      <th>20</th>\n",
       "      <td>8</td>\n",
       "      <td>F</td>\n",
       "      <td>0.0</td>\n",
       "    </tr>\n",
       "    <tr>\n",
       "      <th>21</th>\n",
       "      <td>9</td>\n",
       "      <td>C</td>\n",
       "      <td>1.0</td>\n",
       "    </tr>\n",
       "    <tr>\n",
       "      <th>22</th>\n",
       "      <td>9</td>\n",
       "      <td>D</td>\n",
       "      <td>5.0</td>\n",
       "    </tr>\n",
       "    <tr>\n",
       "      <th>23</th>\n",
       "      <td>9</td>\n",
       "      <td>E</td>\n",
       "      <td>0.0</td>\n",
       "    </tr>\n",
       "    <tr>\n",
       "      <th>24</th>\n",
       "      <td>10</td>\n",
       "      <td>C</td>\n",
       "      <td>2.0</td>\n",
       "    </tr>\n",
       "    <tr>\n",
       "      <th>25</th>\n",
       "      <td>10</td>\n",
       "      <td>D</td>\n",
       "      <td>34.0</td>\n",
       "    </tr>\n",
       "    <tr>\n",
       "      <th>26</th>\n",
       "      <td>10</td>\n",
       "      <td>E</td>\n",
       "      <td>0.0</td>\n",
       "    </tr>\n",
       "    <tr>\n",
       "      <th>27</th>\n",
       "      <td>11</td>\n",
       "      <td>C</td>\n",
       "      <td>1.0</td>\n",
       "    </tr>\n",
       "    <tr>\n",
       "      <th>28</th>\n",
       "      <td>11</td>\n",
       "      <td>D</td>\n",
       "      <td>1.0</td>\n",
       "    </tr>\n",
       "    <tr>\n",
       "      <th>29</th>\n",
       "      <td>11</td>\n",
       "      <td>E</td>\n",
       "      <td>0.0</td>\n",
       "    </tr>\n",
       "    <tr>\n",
       "      <th>...</th>\n",
       "      <td>...</td>\n",
       "      <td>...</td>\n",
       "      <td>...</td>\n",
       "    </tr>\n",
       "    <tr>\n",
       "      <th>127</th>\n",
       "      <td>44</td>\n",
       "      <td>L</td>\n",
       "      <td>신호위반</td>\n",
       "    </tr>\n",
       "    <tr>\n",
       "      <th>128</th>\n",
       "      <td>44</td>\n",
       "      <td>M</td>\n",
       "      <td>교차로</td>\n",
       "    </tr>\n",
       "    <tr>\n",
       "      <th>129</th>\n",
       "      <td>45</td>\n",
       "      <td>B</td>\n",
       "      <td>화</td>\n",
       "    </tr>\n",
       "    <tr>\n",
       "      <th>130</th>\n",
       "      <td>45</td>\n",
       "      <td>K</td>\n",
       "      <td>공작물충돌</td>\n",
       "    </tr>\n",
       "    <tr>\n",
       "      <th>131</th>\n",
       "      <td>45</td>\n",
       "      <td>L</td>\n",
       "      <td>안전운전 의무 불이행</td>\n",
       "    </tr>\n",
       "    <tr>\n",
       "      <th>132</th>\n",
       "      <td>45</td>\n",
       "      <td>M</td>\n",
       "      <td>단일로</td>\n",
       "    </tr>\n",
       "    <tr>\n",
       "      <th>133</th>\n",
       "      <td>46</td>\n",
       "      <td>B</td>\n",
       "      <td>일</td>\n",
       "    </tr>\n",
       "    <tr>\n",
       "      <th>134</th>\n",
       "      <td>46</td>\n",
       "      <td>K</td>\n",
       "      <td>횡단중</td>\n",
       "    </tr>\n",
       "    <tr>\n",
       "      <th>135</th>\n",
       "      <td>46</td>\n",
       "      <td>L</td>\n",
       "      <td>안전운전 의무 불이행</td>\n",
       "    </tr>\n",
       "    <tr>\n",
       "      <th>136</th>\n",
       "      <td>46</td>\n",
       "      <td>M</td>\n",
       "      <td>단일로</td>\n",
       "    </tr>\n",
       "    <tr>\n",
       "      <th>137</th>\n",
       "      <td>47</td>\n",
       "      <td>A</td>\n",
       "      <td>주간</td>\n",
       "    </tr>\n",
       "    <tr>\n",
       "      <th>138</th>\n",
       "      <td>47</td>\n",
       "      <td>C</td>\n",
       "      <td>1.0</td>\n",
       "    </tr>\n",
       "    <tr>\n",
       "      <th>139</th>\n",
       "      <td>47</td>\n",
       "      <td>D</td>\n",
       "      <td>1.0</td>\n",
       "    </tr>\n",
       "    <tr>\n",
       "      <th>140</th>\n",
       "      <td>47</td>\n",
       "      <td>O</td>\n",
       "      <td>승용차</td>\n",
       "    </tr>\n",
       "    <tr>\n",
       "      <th>141</th>\n",
       "      <td>48</td>\n",
       "      <td>A</td>\n",
       "      <td>주간</td>\n",
       "    </tr>\n",
       "    <tr>\n",
       "      <th>142</th>\n",
       "      <td>48</td>\n",
       "      <td>C</td>\n",
       "      <td>1.0</td>\n",
       "    </tr>\n",
       "    <tr>\n",
       "      <th>143</th>\n",
       "      <td>48</td>\n",
       "      <td>D</td>\n",
       "      <td>3.0</td>\n",
       "    </tr>\n",
       "    <tr>\n",
       "      <th>144</th>\n",
       "      <td>48</td>\n",
       "      <td>O</td>\n",
       "      <td>이륜차</td>\n",
       "    </tr>\n",
       "    <tr>\n",
       "      <th>145</th>\n",
       "      <td>49</td>\n",
       "      <td>A</td>\n",
       "      <td>주간</td>\n",
       "    </tr>\n",
       "    <tr>\n",
       "      <th>146</th>\n",
       "      <td>49</td>\n",
       "      <td>D</td>\n",
       "      <td>1.0</td>\n",
       "    </tr>\n",
       "    <tr>\n",
       "      <th>147</th>\n",
       "      <td>49</td>\n",
       "      <td>E</td>\n",
       "      <td>0.0</td>\n",
       "    </tr>\n",
       "    <tr>\n",
       "      <th>148</th>\n",
       "      <td>49</td>\n",
       "      <td>N</td>\n",
       "      <td>교차로내</td>\n",
       "    </tr>\n",
       "    <tr>\n",
       "      <th>149</th>\n",
       "      <td>50</td>\n",
       "      <td>A</td>\n",
       "      <td>주간</td>\n",
       "    </tr>\n",
       "    <tr>\n",
       "      <th>150</th>\n",
       "      <td>50</td>\n",
       "      <td>D</td>\n",
       "      <td>8.0</td>\n",
       "    </tr>\n",
       "    <tr>\n",
       "      <th>151</th>\n",
       "      <td>50</td>\n",
       "      <td>E</td>\n",
       "      <td>6.0</td>\n",
       "    </tr>\n",
       "    <tr>\n",
       "      <th>152</th>\n",
       "      <td>50</td>\n",
       "      <td>N</td>\n",
       "      <td>기타단일로</td>\n",
       "    </tr>\n",
       "    <tr>\n",
       "      <th>153</th>\n",
       "      <td>51</td>\n",
       "      <td>A</td>\n",
       "      <td>주간</td>\n",
       "    </tr>\n",
       "    <tr>\n",
       "      <th>154</th>\n",
       "      <td>51</td>\n",
       "      <td>D</td>\n",
       "      <td>1.0</td>\n",
       "    </tr>\n",
       "    <tr>\n",
       "      <th>155</th>\n",
       "      <td>51</td>\n",
       "      <td>E</td>\n",
       "      <td>0.0</td>\n",
       "    </tr>\n",
       "    <tr>\n",
       "      <th>156</th>\n",
       "      <td>51</td>\n",
       "      <td>N</td>\n",
       "      <td>교차로내</td>\n",
       "    </tr>\n",
       "  </tbody>\n",
       "</table>\n",
       "<p>157 rows × 3 columns</p>\n",
       "</div>"
      ],
      "text/plain": [
       "      행  열            값\n",
       "0     2  C          1.0\n",
       "1     2  D          2.0\n",
       "2     2  F          0.0\n",
       "3     3  C          1.0\n",
       "4     3  D          1.0\n",
       "5     3  F          0.0\n",
       "6     4  D          1.0\n",
       "7     4  E          0.0\n",
       "8     4  G          0.0\n",
       "9     5  D          4.0\n",
       "10    5  E          0.0\n",
       "11    5  G          0.0\n",
       "12    6  D          2.0\n",
       "13    6  E          0.0\n",
       "14    6  F          0.0\n",
       "15    7  D          3.0\n",
       "16    7  E          0.0\n",
       "17    7  F          0.0\n",
       "18    8  D          2.0\n",
       "19    8  E          0.0\n",
       "20    8  F          0.0\n",
       "21    9  C          1.0\n",
       "22    9  D          5.0\n",
       "23    9  E          0.0\n",
       "24   10  C          2.0\n",
       "25   10  D         34.0\n",
       "26   10  E          0.0\n",
       "27   11  C          1.0\n",
       "28   11  D          1.0\n",
       "29   11  E          0.0\n",
       "..   .. ..          ...\n",
       "127  44  L         신호위반\n",
       "128  44  M          교차로\n",
       "129  45  B            화\n",
       "130  45  K        공작물충돌\n",
       "131  45  L  안전운전 의무 불이행\n",
       "132  45  M          단일로\n",
       "133  46  B            일\n",
       "134  46  K          횡단중\n",
       "135  46  L  안전운전 의무 불이행\n",
       "136  46  M          단일로\n",
       "137  47  A           주간\n",
       "138  47  C          1.0\n",
       "139  47  D          1.0\n",
       "140  47  O          승용차\n",
       "141  48  A           주간\n",
       "142  48  C          1.0\n",
       "143  48  D          3.0\n",
       "144  48  O          이륜차\n",
       "145  49  A           주간\n",
       "146  49  D          1.0\n",
       "147  49  E          0.0\n",
       "148  49  N         교차로내\n",
       "149  50  A           주간\n",
       "150  50  D          8.0\n",
       "151  50  E          6.0\n",
       "152  50  N        기타단일로\n",
       "153  51  A           주간\n",
       "154  51  D          1.0\n",
       "155  51  E          0.0\n",
       "156  51  N         교차로내\n",
       "\n",
       "[157 rows x 3 columns]"
      ]
     },
     "execution_count": 45,
     "metadata": {},
     "output_type": "execute_result"
    }
   ],
   "source": [
    "result_df"
   ]
  }
 ],
 "metadata": {
  "kernelspec": {
   "display_name": "Python 3",
   "language": "python",
   "name": "python3"
  },
  "language_info": {
   "codemirror_mode": {
    "name": "ipython",
    "version": 3
   },
   "file_extension": ".py",
   "mimetype": "text/x-python",
   "name": "python",
   "nbconvert_exporter": "python",
   "pygments_lexer": "ipython3",
   "version": "3.6.3"
  }
 },
 "nbformat": 4,
 "nbformat_minor": 2
}
